{
 "cells": [
  {
   "cell_type": "code",
   "execution_count": 5,
   "metadata": {},
   "outputs": [],
   "source": [
    "%matplotlib inline"
   ]
  },
  {
   "cell_type": "code",
   "execution_count": 6,
   "metadata": {},
   "outputs": [],
   "source": [
    "import glob\n",
    "import numpy as np\n",
    "import matplotlib.pyplot as plt\n",
    "import re\n",
    "import pickle\n",
    "import tensorflow as tf\n",
    "import numpy as np "
   ]
  },
  {
   "cell_type": "code",
   "execution_count": 7,
   "metadata": {},
   "outputs": [],
   "source": [
    "def taylor_nn(prev_layer, weights, biases, com_type1, com_type2, act_type, num_of_layers, expansion_order, name ='U'):\n",
    "    \"\"\"Apply a NN to input from previous later\n",
    "\n",
    "    Arguments:\n",
    "        prev_layer      -- input from previous NN\n",
    "        weights         -- dictionary of weights\n",
    "        biases          -- dictionary of biases (uniform(-1,1) distribution, normal(0,1) distrubution, none--zeros)\n",
    "        act_type        -- dictionary of activation functions (sigmoid, relu, elu, or none): user option \n",
    "        num_of_layers   -- number of weight matrices or layers: user option \n",
    "        expansion_order -- dictionary of Taylor expansion order: user option \n",
    "\n",
    "    Returns:\n",
    "        output of network for input from previous layer\n",
    "    \"\"\"\n",
    "    \n",
    "    for i in np.arange(num_of_layers):\n",
    "        #Compressor One###\n",
    "        if com_type1['com1%s%d' % (name,i + 1)] == 'sigmoid':\n",
    "            prev_layer = tf.sigmoid(prev_layer)\n",
    "        elif com_type1['com1%s%d' % (name,i + 1)] == 'relu':\n",
    "            prev_layer = tf.nn.relu(prev_layer)\n",
    "        elif com_type1['com1%s%d' % (name,i + 1)] == 'none':\n",
    "            prev_layer = prev_layer\n",
    "        ###################################################################################################################################\n",
    "        \n",
    "        #Compressor Two###\n",
    "        if com_type2['com2%s%d' % (name,i + 1)] == 'sigmoid':\n",
    "            prev_layer = tf.sigmoid(prev_layer)\n",
    "        elif com_type2['com2%s%d' % (name,i + 1)] == 'none':\n",
    "            prev_layer = prev_layer\n",
    "        ###################################################################################################################################\n",
    "\n",
    "        #save raw input###\n",
    "        input_raw = prev_layer\n",
    "        raw_input_shape = input_raw.shape\n",
    "        ###################################################################################################################################\n",
    "        \n",
    "        #The expaned input via Taylor expansion is denoted by input_epd###\n",
    "        input_epd = input_raw\n",
    "        ###################################################################################################################################\n",
    "    \n",
    "        io = int(raw_input_shape[0])\n",
    "        Id = np.arange(io)\n",
    "        ###################################################################################################################################\n",
    "        \n",
    "       \n",
    "        #Nolinear mapping through Taylor expansion###\n",
    "        for _ in range(expansion_order['E%s%d' % (name, i +  1)]):\n",
    "            for j in range(raw_input_shape[0]):\n",
    "                for q in range(raw_input_shape[1]):\n",
    "                    x_temp = tf.multiply(input_raw[j,q], input_epd[Id[j]:(Id[raw_input_shape[0]-1]+1),q])\n",
    "                    x_temp = tf.expand_dims(x_temp,1)\n",
    "                    if q == 0:\n",
    "                        tem_temp = x_temp\n",
    "                    else:\n",
    "                        tem_temp = tf.concat((tem_temp,x_temp),1)\n",
    "                Id[j] = input_epd.shape[0] \n",
    "                input_epd = tf.concat((input_epd,tem_temp),0)\n",
    "        ###################################################################################################################################\n",
    "             \n",
    "        prev_layer = tf.matmul(weights['W%s%d' % (name,i + 1)],input_epd) + biases['b%s%d' % (name,i + 1)] \n",
    "        \n",
    "        if act_type['act%s%d' % (name,i + 1)] == 'sigmoid':\n",
    "            prev_layer = tf.sigmoid(prev_layer)\n",
    "        elif act_type['act%s%d' % (name,i + 1)] == 'relu':\n",
    "            prev_layer = tf.nn.relu(prev_layer)\n",
    "        elif act_type ['act%s%d' % (name,i + 1)] == 'elu':\n",
    "            prev_layer = tf.nn.elu(prev_layer)\n",
    "        elif act_type ['act%s%d' % (name,i + 1)] == 'none':\n",
    "            prev_layer = prev_layer\n",
    "        ###################################################################################################################################    \n",
    "        \n",
    "    return prev_layer           "
   ]
  },
  {
   "cell_type": "code",
   "execution_count": 8,
   "metadata": {},
   "outputs": [],
   "source": [
    "##Model Parameters#########################################################################################################\n",
    "params = {}\n",
    "input_dim = 7; \n",
    "\n",
    "params['uncheckable_dist_weights'] = ['tn','tn','tn']\n",
    "params['uncheckable_output_size'] = [input_dim,350,10,2]\n",
    "params['uncheckable_epd'] = np.array([0,0,1])\n",
    "params['uncheckable_act'] = ['elu','elu','none']\n",
    "params['uncheckable_com_type1'] = ['none','none','none']\n",
    "params['uncheckable_com_type2'] = ['none','none','none']\n",
    "params['uncheckable_dist_biases'] = ['normal','normal','normal']\n",
    "params['uncheckable_num_of_layers'] = len(np.array([0,0,0])) \n",
    "\n",
    "params['checkable_dist_weights'] = ['tn']\n",
    "params['checkable_output_size'] = [2,2]\n",
    "params['checkable_epd'] = np.array([1])\n",
    "params['checkable_act'] = ['none']\n",
    "params['checkable_com_type1'] = ['none']\n",
    "params['checkable_com_type2'] = ['none']\n",
    "params['checkable_dist_biases'] = ['none']\n",
    "params['checkable_num_of_layers'] = len(np.array([0])) \n",
    "###########################################################################################################################"
   ]
  },
  {
   "cell_type": "code",
   "execution_count": 9,
   "metadata": {},
   "outputs": [],
   "source": [
    "##Load Weights, bias, activation and expansion order#####################################################################################################\n",
    "WC = dict()\n",
    "WU = dict()\n",
    "bC = dict()\n",
    "bU = dict()\n",
    "act_typeC = dict()\n",
    "act_typeU = dict()\n",
    "com_typeU1 = dict() \n",
    "com_typeU2 = dict()\n",
    "com_typeC1 = dict() \n",
    "com_typeC2 = dict()\n",
    "expansion_orderU = dict()\n",
    "expansion_orderC = dict()\n",
    "\n",
    "for j in range(params['uncheckable_num_of_layers']):\n",
    "    WU['WU%d' % (j + 1)] = np.matrix(np.loadtxt(\"../Ptaylor_taylor30/exp_1_WU%d.csv\" % (j+1), delimiter=',', dtype=np.float64)) \n",
    "    bU['bU%d' % (j + 1)] = np.transpose(np.matrix(np.loadtxt(\"../Ptaylor_taylor30/exp_1_bU%d.csv\" % (j+1), delimiter=',', dtype=np.float64)))    \n",
    "    act_typeU['actU%d' % (j + 1)] = params['uncheckable_act'][j]\n",
    "    expansion_orderU['EU%d' % (j + 1)] = params['uncheckable_epd'][j]\n",
    "    com_typeU1['com1U%d' % (j + 1)] = params['uncheckable_com_type1'][j]\n",
    "    com_typeU2['com2U%d' % (j + 1)] = params['uncheckable_com_type2'][j]\n",
    "\n",
    "for i in range(params['checkable_num_of_layers']):\n",
    "    WC['WC%d' % (i + 1)] = np.matrix(np.loadtxt(\"../Ptaylor_taylor30/exp_1_WC%d.csv\" % (i+1), delimiter=',', dtype=np.float64))\n",
    "    bC['bC%d' % (i + 1)] = np.transpose(np.matrix(np.loadtxt(\"../Ptaylor_taylor30/exp_1_bC%d.csv\" % (i+1), delimiter=',', dtype=np.float64)))\n",
    "    act_typeC['actC%d' % (i + 1)] = params['checkable_act'][i]\n",
    "    expansion_orderC['EC%d' % (i + 1)] = params['checkable_epd'][i]\n",
    "    com_typeC1['com1C%d' % (i + 1)] = params['checkable_com_type1'][i]\n",
    "    com_typeC2['com2C%d' % (i + 1)] = params['checkable_com_type2'][i]\n",
    "    \n",
    "############################################################################################################################\n"
   ]
  },
  {
   "cell_type": "code",
   "execution_count": 10,
   "metadata": {},
   "outputs": [],
   "source": [
    "##load data############################################################################################################\n",
    "Xtest = np.matrix(np.loadtxt(\"../post/testdata/Car_test_X6.csv\",delimiter=',', dtype=np.float64));\n",
    "Ytest = np.matrix(np.loadtxt(\"../post/testdata/Car_test_Y6.csv\",delimiter=',', dtype=np.float64));\n",
    "Ztest = np.matrix(np.loadtxt(\"../post/testdata/Car_test_Z6.csv\",delimiter=',', dtype=np.float64));\n",
    "#######################################################################################################################"
   ]
  },
  {
   "cell_type": "code",
   "execution_count": 11,
   "metadata": {},
   "outputs": [],
   "source": [
    "##Data from trained model##############################################################################################\n",
    "ti = 1300        ##testing point\n",
    "tLen = 5        ##testing length\n",
    "\n",
    "\n",
    "for u in range(tLen):\n",
    "    \n",
    "    X = np.transpose(Xtest[ti+u,:])\n",
    "    \n",
    "    \n",
    "    #print(X.shape)\n",
    "    \n",
    "    #X = np.transpose(np.transpose([[4.51634e-06],[0.000966611],[-0.325921],[-1.61015],[0.0278182],[0.0322638],[-0.00309674]]))\n",
    "    \n",
    "    #X = np.transpose(np.transpose([[1.09076e-05],[-0.0303769],[-0.313967],[-1.62734],[0.00638981],[0.0290055],[0.00204746]]))\n",
    "    \n",
    "    \n",
    "\n",
    "    \n",
    "    \n",
    "    \n",
    "    \n",
    "    #print(Y.shape)\n",
    "    \n",
    "    yrun = taylor_nn(prev_layer=X, weights=WU, biases=bU, com_type1=com_typeU1, com_type2=com_typeU2, act_type=act_typeU, \n",
    "                 num_of_layers=params['uncheckable_num_of_layers'], expansion_order=expansion_orderU,name='U')\n",
    "    \n",
    "    zrun = taylor_nn(prev_layer=yrun, weights=WC, biases=bC, com_type1=com_typeC1, com_type2=com_typeC2, act_type=act_typeC, \n",
    "                 num_of_layers=params['checkable_num_of_layers'], expansion_order=expansion_orderC,name='C')\n",
    "    \n",
    "    yrecord = yrun.eval(session=tf.compat.v1.Session())\n",
    "    zrecord = zrun.eval(session=tf.compat.v1.Session())\n",
    "    \n",
    "    if u == 0:\n",
    "        Y_train = yrecord\n",
    "        Z_train = zrecord \n",
    "    else:\n",
    "        Y_train = np.concatenate((Y_train,yrecord),axis= 1)\n",
    "        Z_train = np.concatenate((Z_train,zrecord),axis= 1)\n",
    "  ######################################################################################################################  "
   ]
  },
  {
   "cell_type": "code",
   "execution_count": null,
   "metadata": {},
   "outputs": [],
   "source": []
  },
  {
   "cell_type": "code",
   "execution_count": 12,
   "metadata": {},
   "outputs": [],
   "source": [
    "##trure data###########################################################################################################\n",
    "Ycom = np.transpose(Ytest[(ti):(ti+tLen),:])\n",
    "Zcom = np.transpose(Ztest[(ti):(ti+tLen),:])\n",
    "#######################################################################################################################"
   ]
  },
  {
   "cell_type": "code",
   "execution_count": 13,
   "metadata": {},
   "outputs": [],
   "source": [
    "##process data##########################################################################################################\n",
    "t = np.arange(tLen)\n",
    "t = np.reshape(t,(1,tLen))\n",
    "\n",
    "Y1_train = np.reshape(Y_train[0,:],(1,tLen))\n",
    "Y1_com = Ycom[0,:].flatten()\n",
    "Y2_train = np.reshape(Y_train[1,:],(1,tLen))\n",
    "Y2_com = Ycom[1,:].flatten()\n",
    "Z1_train = np.reshape(Z_train[0,:],(1,tLen))\n",
    "Z1_com = Zcom[0,:].flatten()\n",
    "Z2_train = np.reshape(Z_train[1,:],(1,tLen))\n",
    "Z2_com = Zcom[1,:].flatten()\n",
    "\n",
    "t = t.flatten()\n",
    "Y1_train = (np.asarray(Y1_train)).flatten()\n",
    "Y1_com = (np.asarray(Y1_com)).flatten()\n",
    "Y2_train = (np.asarray(Y2_train)).flatten()\n",
    "Y2_com = (np.asarray(Y2_com)).flatten()\n",
    "Z1_train = (np.asarray(Z1_train)).flatten()\n",
    "Z1_com = (np.asarray(Z1_com)).flatten()\n",
    "Z2_train = 1*(np.asarray(Z2_train)).flatten()\n",
    "Z2_com = (np.asarray(Z2_com)).flatten()\n",
    "########################################################################################################################################### "
   ]
  },
  {
   "cell_type": "code",
   "execution_count": 14,
   "metadata": {},
   "outputs": [
    {
     "data": {
      "image/png": "[encoded data removed]",
      "text/plain": [
       "<Figure size 432x288 with 1 Axes>"
      ]
     },
     "metadata": {
      "needs_background": "light"
     },
     "output_type": "display_data"
    }
   ],
   "source": [
    "plt.plot(t,Y1_train,t,Y1_com, linewidth=3)\n",
    "plt.xlabel(\"Time\", fontsize=16)\n",
    "plt.ylabel(\"Throttle\", fontsize=16)\n",
    "plt.gca().legend(('Inference','Ground Truth'), fontsize=16)\n",
    "plt.title(\"(a)\", fontsize=16)\n",
    "plt.grid()\n",
    "#plt.xlim([1, 300])\n",
    "#plt.ylim([0.142, 0.162])\n",
    "plt.show()"
   ]
  },
  {
   "cell_type": "code",
   "execution_count": 15,
   "metadata": {},
   "outputs": [
    {
     "data": {
      "image/png": "[encoded data removed]",
      "text/plain": [
       "<Figure size 432x288 with 1 Axes>"
      ]
     },
     "metadata": {
      "needs_background": "light"
     },
     "output_type": "display_data"
    }
   ],
   "source": [
    "plt.plot(t,Y2_train,t,Y2_com, linewidth=3)\n",
    "plt.xlabel(\"Time\", fontsize=16)\n",
    "plt.ylabel(\"Steering\", fontsize=16)\n",
    "plt.gca().legend(('Inference','Ground Truth'), fontsize=16)\n",
    "plt.title(\"(b)\", fontsize=16)\n",
    "plt.grid()\n",
    "#plt.xlim([1, 300])\n",
    "plt.show()"
   ]
  },
  {
   "cell_type": "code",
   "execution_count": 16,
   "metadata": {},
   "outputs": [
    {
     "data": {
      "image/png": "[encoded data removed]",
      "text/plain": [
       "<Figure size 432x288 with 1 Axes>"
      ]
     },
     "metadata": {
      "needs_background": "light"
     },
     "output_type": "display_data"
    }
   ],
   "source": [
    "plt.plot(t,Z1_train,t,Z1_com, linewidth=3)\n",
    "plt.xlabel(\"Time\", fontsize=16)\n",
    "plt.ylabel(\"Tracking Error\", fontsize=16)\n",
    "plt.gca().legend(('Inference','Ground Truth'), fontsize=16)\n",
    "plt.title(\"(c)\", fontsize=16)\n",
    "plt.grid()\n",
    "#plt.xlim([1, 300])\n",
    "plt.show()"
   ]
  },
  {
   "cell_type": "code",
   "execution_count": 17,
   "metadata": {},
   "outputs": [
    {
     "data": {
      "image/png": "[encoded data removed]",
      "text/plain": [
       "<Figure size 432x288 with 1 Axes>"
      ]
     },
     "metadata": {
      "needs_background": "light"
     },
     "output_type": "display_data"
    }
   ],
   "source": [
    "plt.plot(t,Z2_train,t,Z2_com, linewidth=3)\n",
    "plt.xlabel(\"Time\", fontsize=16)\n",
    "plt.ylabel(\"slip\", fontsize=16)\n",
    "plt.gca().legend(('Inference','Ground Truth'), fontsize=16)\n",
    "plt.title(\"(d)\", fontsize=16)\n",
    "plt.grid()\n",
    "#plt.ylim([0, 0.005])\n",
    "plt.show()"
   ]
  },
  {
   "cell_type": "code",
   "execution_count": null,
   "metadata": {},
   "outputs": [],
   "source": []
  },
  {
   "cell_type": "code",
   "execution_count": 18,
   "metadata": {},
   "outputs": [
    {
     "name": "stdout",
     "output_type": "stream",
     "text": [
      "5.9851217221097216e-05\n"
     ]
    }
   ],
   "source": [
    "test_error =  (np.mean(np.square(Y1_train - Y1_com)) + np.mean(np.square(Y2_train - Y2_com)) + np.mean(np.square(Z1_train - Z1_com)) + np.mean(np.square(Z2_train - Z2_com)))/6\n",
    "    \n",
    "print(test_error)  "
   ]
  },
  {
   "cell_type": "code",
   "execution_count": 19,
   "metadata": {},
   "outputs": [
    {
     "name": "stdout",
     "output_type": "stream",
     "text": [
      "(5,)\n"
     ]
    }
   ],
   "source": [
    "print(Y1_train.shape)"
   ]
  },
  {
   "cell_type": "code",
   "execution_count": null,
   "metadata": {},
   "outputs": [],
   "source": []
  },
  {
   "cell_type": "code",
   "execution_count": null,
   "metadata": {},
   "outputs": [],
   "source": []
  },
  {
   "cell_type": "code",
   "execution_count": null,
   "metadata": {},
   "outputs": [],
   "source": []
  },
  {
   "cell_type": "code",
   "execution_count": 16,
   "metadata": {},
   "outputs": [],
   "source": [
    "import csv\n",
    "f1 = open('../post/yoo41.csv', 'w')\n",
    "f2 = open('../post/yoo42.csv', 'w')\n",
    "f3 = open('../post/zoo41.csv', 'w')\n",
    "f4 = open('../post/zoo42.csv', 'w')\n",
    "\n",
    "\n",
    "writer1 = csv.writer(f1)\n",
    "writer2 = csv.writer(f2)\n",
    "writer3 = csv.writer(f3)\n",
    "writer4 = csv.writer(f4)\n",
    "\n",
    "\n",
    "writer1.writerow(Y1_train)\n",
    "writer2.writerow(Y2_train)\n",
    "writer3.writerow(Z1_train)\n",
    "writer4.writerow(Z2_train)\n",
    "\n",
    "\n",
    "f1.close()\n",
    "f2.close()\n",
    "f3.close()\n",
    "f4.close()"
   ]
  },
  {
   "cell_type": "code",
   "execution_count": null,
   "metadata": {},
   "outputs": [],
   "source": []
  },
  {
   "cell_type": "code",
   "execution_count": null,
   "metadata": {},
   "outputs": [],
   "source": []
  },
  {
   "cell_type": "code",
   "execution_count": null,
   "metadata": {},
   "outputs": [],
   "source": []
  },
  {
   "cell_type": "code",
   "execution_count": null,
   "metadata": {},
   "outputs": [],
   "source": []
  },
  {
   "cell_type": "code",
   "execution_count": null,
   "metadata": {},
   "outputs": [],
   "source": []
  },
  {
   "cell_type": "code",
   "execution_count": 20,
   "metadata": {},
   "outputs": [],
   "source": [
    "for j in range(params['uncheckable_num_of_layers']):\n",
    "    WU = np.matrix(np.loadtxt(\"../Ptaylor_taylor30/exp_1_WU%d.csv\" % (j+1), delimiter=',', dtype=np.float64)) \n",
    "    bU = np.matrix(np.loadtxt(\"../Ptaylor_taylor30/exp_1_bU%d.csv\" % (j+1), delimiter=',', dtype=np.float64)) \n",
    "\n",
    "    outfilewu = 'WU%d.npz' % (j + 1)\n",
    "    outfilebu = 'bU%d.npz' % (j + 1)\n",
    "\n",
    "    dctwu = {'1': WU}\n",
    "    dctbu = {'1': bU}\n",
    "\n",
    "    np.savez(outfilewu, **dctwu)\n",
    "    np.savez(outfilebu, **dctbu)\n",
    "\n",
    "    \n",
    "for j in range(params['checkable_num_of_layers']):\n",
    "    WC = np.matrix(np.loadtxt(\"../Ptaylor_taylor30/exp_1_WC%d.csv\" % (j+1), delimiter=',', dtype=np.float64)) \n",
    "    bC = np.matrix(np.loadtxt(\"../Ptaylor_taylor30/exp_1_bC%d.csv\" % (j+1), delimiter=',', dtype=np.float64)) \n",
    "    \n",
    "    outfilewc = 'WC%d.npz' % (j + 1)\n",
    "    outfilebc = 'bC%d.npz' % (j + 1)\n",
    "    \n",
    "    dctwc = {'1': WC}\n",
    "    dctbc = {'1': bC}\n",
    "    \n",
    "    np.savez(outfilewc, **dctwc)\n",
    "    np.savez(outfilebc, **dctbc)\n",
    "    \n",
    "    \n",
    "#print(j)\n",
    "#npzfile = np.load(\"../post/WU2.npz\")\n",
    "#print('npzfile.files: {}'.format(npzfile.files))\n",
    "#print('npzfile[\"1\"]: {}'.format(npzfile[\"1\"]))\n",
    "    \n",
    "    \n",
    "\n",
    "    "
   ]
  },
  {
   "cell_type": "code",
   "execution_count": 21,
   "metadata": {},
   "outputs": [
    {
     "name": "stdout",
     "output_type": "stream",
     "text": [
      "[[ 0.00000000e+00  0.00000000e+00  1.18144099e-03 -2.01250263e-03\n",
      "   3.42825172e-03]\n",
      " [ 0.00000000e+00  0.00000000e+00 -5.90769724e+00 -2.40279597e-02\n",
      "  -6.01609377e-03]]\n"
     ]
    }
   ],
   "source": [
    "#print(j)\n",
    "npzfile = np.load('../post/WC1.npz', allow_pickle = True)\n",
    "a = npzfile['1']\n",
    "print(a)"
   ]
  },
  {
   "cell_type": "code",
   "execution_count": null,
   "metadata": {},
   "outputs": [],
   "source": []
  }
 ],
 "metadata": {
  "kernelspec": {
   "display_name": "Python 3",
   "language": "python",
   "name": "python3"
  },
  "language_info": {
   "codemirror_mode": {
    "name": "ipython",
    "version": 3
   },
   "file_extension": ".py",
   "mimetype": "text/x-python",
   "name": "python",
   "nbconvert_exporter": "python",
   "pygments_lexer": "ipython3",
   "version": "3.5.2"
  }
 },
 "nbformat": 4,
 "nbformat_minor": 2
}
