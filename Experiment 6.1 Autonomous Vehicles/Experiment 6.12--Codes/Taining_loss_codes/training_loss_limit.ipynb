{
 "cells": [
  {
   "cell_type": "code",
   "execution_count": 1,
   "metadata": {},
   "outputs": [],
   "source": [
    "import csv,json\n",
    "import matplotlib.pyplot as plt\n",
    "import numpy as np"
   ]
  },
  {
   "cell_type": "code",
   "execution_count": 2,
   "metadata": {},
   "outputs": [],
   "source": [
    "'''\n",
    "Fun: read the result\n",
    "'''\n",
    "def read_result_file(file_name, max_iters, window=10):\n",
    "    # label_lst = []\n",
    "    y = []\n",
    "    x_axis = []\n",
    "    loss_list = []\n",
    "    with open(file_name,\"r\") as f:\n",
    "        # lines = f.readlines()\n",
    "        for num, line in enumerate(f):\n",
    "            loss = line.strip()\n",
    "            loss_list.append(float(loss))\n",
    "            # print()\n",
    "            step = num+1\n",
    "            if num % window == 1:\n",
    "                x_axis.append(step)\n",
    "                loss_avg = np.mean(loss_list)\n",
    "                y.append(float(loss_avg))\n",
    "                loss_list = []\n",
    "            if num > max_iters:\n",
    "                break\n",
    "    return y, x_axis\n"
   ]
  },
  {
   "cell_type": "code",
   "execution_count": 3,
   "metadata": {},
   "outputs": [],
   "source": [
    "'''\n",
    "Fun: plot figure\n",
    "'''\n",
    "def plot_figure(x,y,label_lst,x_title,location):\n",
    "    fig = plt.figure()\n",
    "    linewidth = 1.5 #linewidth\n",
    "    colors = ['red', 'blue','black','green','orchid','orange','grey','yellow','purple','cyan']\n",
    "    markers = ['', '', '','', '', 'x', '*', '>', '^','s']\n",
    "    linestyles = ['-', '-.', '-', ':','-','-']\n",
    "    n = len(y)\n",
    "    plt.rc('font', size=14)\n",
    "    for i in range(n):\n",
    "        plt.plot(x, y[i], marker = markers[i], color = colors[i], linestyle=linestyles[i],\\\n",
    "            lw = linewidth, markersize=8, label = label_lst[i])\n",
    "    # print(\"done plot\")\n",
    "    font2 = {'family' : 'Times New Roman','weight': 'normal','size': 15}\n",
    "    plt.ticklabel_format(style='sci', axis='x', scilimits=(0,0))\n",
    "    # plt.tick_params(labelsize = 14)\n",
    "    plt.xlabel(x_title, fontsize = 14)  #we can use font 2\n",
    "    plt.ylabel('Training Loss', fontsize = 14)\n",
    "    # plt.xticks(x, x)#show the X values\n",
    "    # plt.title('Comparison of different algorithms',fontsize = 14)\n",
    "    plt.legend(loc = 'best', prop={'size': 9.5})  #loc = \"best\",'upper left' = 2,'lower left'=3\n",
    "    plt.grid()\n",
    "    #plt.savefig('Performance/' + 'compare.png',dpi = 300)\n",
    "    plt.show()\n",
    "    print(\"done plot\")\n"
   ]
  },
  {
   "cell_type": "code",
   "execution_count": 4,
   "metadata": {},
   "outputs": [],
   "source": [
    "## main function\n",
    "def main():\n",
    "    ## compare the hit ratio\n",
    "    #file_names = ['5.txt']\n",
    "    \n",
    "    #file_names = ['e2.out','e3.out','e4.out','e5.out']\n",
    "    file_names = ['pk.out']\n",
    "    #file_names = ['nohup.out']\n",
    "    #file_names = ['e6.out','ee1.out']\n",
    "    x_title = 'Iterations'\n",
    "    window_size = 50\n",
    "    max_iters = 6004077600\n",
    "    y_list = []\n",
    "    for file_name in file_names:\n",
    "        y,x = read_result_file(file_name, max_iters, window_size)\n",
    "        print(\"y-len:\", len(y))\n",
    "        y_list.append(y)\n",
    "        # print(len(x),len(y1))\n",
    "    # print(y1[0:10])\n",
    "    # y_list = [y1,]\n",
    "    location = 'best'\n",
    "    #label_lst = ['or = 1, rate X10','Input_or = 10 rate X10','Input_or = 8','Input_or = 6','Input_or = 4','Input_or = 2','Input_or = 0']\n",
    "    #label_lst = ['no expansion, all-non-act.']\n",
    "    #label_lst = ['compressor','no compressor']\n",
    "    label_lst = ['1','2','3']\n",
    "    #label_lst = ['No expansion','Order 3', 'order 5', 'order 7','order 9']\n",
    "    # print(len(y_list))\n",
    "    # x = np.arange(len(y_list[0]))\n",
    "    #plot_figure(x,y_list)\n",
    "    plot_figure(x,y_list,label_lst,x_title,location)"
   ]
  },
  {
   "cell_type": "code",
   "execution_count": 5,
   "metadata": {
    "scrolled": true
   },
   "outputs": [
    {
     "name": "stdout",
     "output_type": "stream",
     "text": [
      "y-len: 5294\n"
     ]
    },
    {
     "data": {
      "image/png": "[encoded data removed]",
      "text/plain": [
       "<Figure size 432x288 with 1 Axes>"
      ]
     },
     "metadata": {
      "needs_background": "light"
     },
     "output_type": "display_data"
    },
    {
     "name": "stdout",
     "output_type": "stream",
     "text": [
      "done plot\n"
     ]
    }
   ],
   "source": [
    "## main function\n",
    "if __name__ == '__main__':\n",
    "    main()"
   ]
  },
  {
   "cell_type": "code",
   "execution_count": null,
   "metadata": {},
   "outputs": [],
   "source": []
  },
  {
   "cell_type": "code",
   "execution_count": null,
   "metadata": {},
   "outputs": [],
   "source": []
  },
  {
   "cell_type": "code",
   "execution_count": null,
   "metadata": {},
   "outputs": [],
   "source": []
  },
  {
   "cell_type": "code",
   "execution_count": null,
   "metadata": {},
   "outputs": [],
   "source": []
  },
  {
   "cell_type": "code",
   "execution_count": null,
   "metadata": {},
   "outputs": [],
   "source": []
  }
 ],
 "metadata": {
  "kernelspec": {
   "display_name": "Python 3",
   "language": "python",
   "name": "python3"
  },
  "language_info": {
   "codemirror_mode": {
    "name": "ipython",
    "version": 3
   },
   "file_extension": ".py",
   "mimetype": "text/x-python",
   "name": "python",
   "nbconvert_exporter": "python",
   "pygments_lexer": "ipython3",
   "version": "3.5.2"
  }
 },
 "nbformat": 4,
 "nbformat_minor": 2
}
